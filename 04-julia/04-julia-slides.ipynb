{
 "cells": [
  {
   "cell_type": "markdown",
   "metadata": {
    "slideshow": {
     "slide_type": "slide"
    },
    "tags": []
   },
   "source": [
    "# <span style=\"color:#2c061f\"> Data Science 871: Lecture 4 </span>  \n",
    "\n",
    "<br>\n",
    "\n",
    "## <span style=\"color:#374045\"> Introduction to Programming with Julia </span>\n",
    "\n",
    "\n",
    "#### <span style=\"color:#374045\"> Lecturer: </span> <span style=\"color:#d89216\"> <br> Dawie van Lill (dvanlill@sun.ac.za) </span>"
   ]
  },
  {
   "cell_type": "markdown",
   "metadata": {
    "slideshow": {
     "slide_type": "-"
    }
   },
   "source": [
    "---"
   ]
  },
  {
   "cell_type": "markdown",
   "metadata": {
    "slideshow": {
     "slide_type": "slide"
    }
   },
   "source": [
    "# Introduction\n",
    "\n",
    "Your interest in computational work will determine how much of this guide you read. \n",
    "\n",
    "- **Very interested** -- Read all the sections carefully (even if you don't understand)\n",
    "- *Somewhat interested* -- Read through the compulsory sections and scan through the `optional` sections\n",
    "- No interest -- Read the compulsory sections that are needed to complete the tutorials\n",
    "\n",
    "Try not to let the amount of information overwhelm you.\n",
    "\n",
    "The notebook is meant to be used as a **reference**\n",
    "\n",
    "The slides presented here are the **compulsory** part of the tutorial. "
   ]
  },
  {
   "cell_type": "markdown",
   "metadata": {
    "slideshow": {
     "slide_type": "slide"
    }
   },
   "source": [
    "# Tutorial topics\n",
    "\n",
    "Here are some of the focus areas\n",
    "\n",
    "1. **Fundamentals of programming with Julia**\n",
    "2. Data, math and stats\n",
    "3. Optimisation and the consumer problem\n",
    "4. Solow model "
   ]
  },
  {
   "cell_type": "markdown",
   "metadata": {
    "slideshow": {
     "slide_type": "slide"
    }
   },
   "source": [
    "# Running the notebooks\n",
    "\n",
    "It is preferred that you install the programs on your computer.\n",
    "\n",
    "This requires that you install Anaconda and Julia. \n",
    "\n",
    "[Here](https://julia.quantecon.org/getting_started_julia/getting_started.html) is a link that explains the installation process.\n",
    "\n",
    "However, if you are finding it difficult to get things working you may try the other options. \n",
    "\n",
    "I will make a brief video on how to install Anaconda and link it to Julia.\n"
   ]
  },
  {
   "cell_type": "markdown",
   "metadata": {
    "slideshow": {
     "slide_type": "slide"
    }
   },
   "source": [
    "# Tutorial outline\n",
    "\n",
    "1. Variables\n",
    "2. Data structures\n",
    "3. Control flow\n",
    "4. Functions\n",
    "5. Visualisation\n",
    "6. Type system and generic programming (`optional`)"
   ]
  },
  {
   "cell_type": "markdown",
   "metadata": {
    "slideshow": {
     "slide_type": "slide"
    }
   },
   "source": [
    "# Your first code!\n",
    "\n",
    "Before we start our discussion, let us try and run our first Julia program. \n",
    "\n",
    "For those that have done programming before, this normally entails writing a piece of code that gives us the output ``Hello World!``. \n",
    "\n",
    "In Julia this is super easy to do. \n"
   ]
  },
  {
   "cell_type": "code",
   "execution_count": 1,
   "metadata": {
    "slideshow": {
     "slide_type": "fragment"
    }
   },
   "outputs": [
    {
     "name": "stdout",
     "output_type": "stream",
     "text": [
      "Hello World!\n"
     ]
    }
   ],
   "source": [
    "println(\"Hello World!\")"
   ]
  },
  {
   "cell_type": "markdown",
   "metadata": {
    "slideshow": {
     "slide_type": "slide"
    }
   },
   "source": [
    "# Introduction to packages\n",
    "\n",
    "Julia has many useful packages. If we want to include a specific package then we can do the following,\n",
    "\n",
    "`import Pkg`\n",
    "\n",
    "`Pkg.add(\"PackageName\")`\n",
    "\n",
    "`using PackageName`"
   ]
  },
  {
   "cell_type": "code",
   "execution_count": 3,
   "metadata": {
    "slideshow": {
     "slide_type": "skip"
    }
   },
   "outputs": [
    {
     "name": "stderr",
     "output_type": "stream",
     "text": [
      "\u001b[32m\u001b[1m   Resolving\u001b[22m\u001b[39m package versions...\n",
      "\u001b[32m\u001b[1m  No Changes\u001b[22m\u001b[39m to `~/Dropbox/2022/318-macro/git/Macro-318/Project.toml`\n",
      "\u001b[32m\u001b[1m  No Changes\u001b[22m\u001b[39m to `~/Dropbox/2022/318-macro/git/Macro-318/Manifest.toml`\n",
      "\u001b[32m\u001b[1m   Resolving\u001b[22m\u001b[39m package versions...\n",
      "\u001b[32m\u001b[1m  No Changes\u001b[22m\u001b[39m to `~/Dropbox/2022/318-macro/git/Macro-318/Project.toml`\n",
      "\u001b[32m\u001b[1m  No Changes\u001b[22m\u001b[39m to `~/Dropbox/2022/318-macro/git/Macro-318/Manifest.toml`\n",
      "\u001b[32m\u001b[1m   Resolving\u001b[22m\u001b[39m package versions...\n",
      "\u001b[32m\u001b[1m  No Changes\u001b[22m\u001b[39m to `~/Dropbox/2022/318-macro/git/Macro-318/Project.toml`\n",
      "\u001b[32m\u001b[1m  No Changes\u001b[22m\u001b[39m to `~/Dropbox/2022/318-macro/git/Macro-318/Manifest.toml`\n",
      "\u001b[32m\u001b[1m   Resolving\u001b[22m\u001b[39m package versions...\n",
      "\u001b[32m\u001b[1m  No Changes\u001b[22m\u001b[39m to `~/Dropbox/2022/318-macro/git/Macro-318/Project.toml`\n",
      "\u001b[32m\u001b[1m  No Changes\u001b[22m\u001b[39m to `~/Dropbox/2022/318-macro/git/Macro-318/Manifest.toml`\n",
      "\u001b[32m\u001b[1m   Resolving\u001b[22m\u001b[39m package versions...\n",
      "\u001b[32m\u001b[1m  No Changes\u001b[22m\u001b[39m to `~/Dropbox/2022/318-macro/git/Macro-318/Project.toml`\n",
      "\u001b[32m\u001b[1m  No Changes\u001b[22m\u001b[39m to `~/Dropbox/2022/318-macro/git/Macro-318/Manifest.toml`\n"
     ]
    }
   ],
   "source": [
    "import Pkg\n",
    "\n",
    "Pkg.add(\"DataFrames\") # Package for working with data\n",
    "Pkg.add(\"GLM\") # Package for linear regression\n",
    "Pkg.add(\"LinearAlgebra\") # Package for linear algebra applications\n",
    "Pkg.add(\"Plots\") # Package for plotting\n",
    "Pkg.add(\"TypeTree\") # Package that shows type hierarchy in tree form\n",
    "\n",
    "using Base: show_supertypes\n",
    "using DataFrames\n",
    "using GLM\n",
    "using LinearAlgebra\n",
    "using Plots\n",
    "using TypeTree"
   ]
  },
  {
   "cell_type": "code",
   "execution_count": null,
   "metadata": {
    "slideshow": {
     "slide_type": "fragment"
    }
   },
   "outputs": [],
   "source": [
    "import Pkg\n",
    "\n",
    "Pkg.add(\"DataFrames\") # Package for working with data\n",
    "Pkg.add(\"GLM\") # Package for linear regression\n",
    "Pkg.add(\"LinearAlgebra\") # Package for linear algebra applications\n",
    "Pkg.add(\"Plots\") # Package for plotting\n",
    "Pkg.add(\"TypeTree\") # Package that shows type hierarchy in tree form\n",
    "\n",
    "using Base: show_supertypes\n",
    "using DataFrames\n",
    "using GLM\n",
    "using LinearAlgebra\n",
    "using Plots\n",
    "using TypeTree"
   ]
  },
  {
   "cell_type": "markdown",
   "metadata": {
    "slideshow": {
     "slide_type": "slide"
    }
   },
   "source": [
    "# Variables and types\n",
    "\n",
    "After having successfully written your `Hello World!` code in Julia, a natural place to continue your journey is with variables. \n",
    "\n",
    "A variable in a programming language is going to be some sort of symbol that we assign some value. "
   ]
  },
  {
   "cell_type": "code",
   "execution_count": 4,
   "metadata": {
    "slideshow": {
     "slide_type": "fragment"
    }
   },
   "outputs": [
    {
     "data": {
      "text/plain": [
       "2"
      ]
     },
     "execution_count": 4,
     "metadata": {},
     "output_type": "execute_result"
    }
   ],
   "source": [
    "x = 2 # We assign the value of 2 to the variable x"
   ]
  },
  {
   "cell_type": "code",
   "execution_count": 5,
   "metadata": {
    "slideshow": {
     "slide_type": "fragment"
    }
   },
   "outputs": [
    {
     "data": {
      "text/plain": [
       "Int64"
      ]
     },
     "execution_count": 5,
     "metadata": {},
     "output_type": "execute_result"
    }
   ],
   "source": [
    "typeof(x) # Command to find the type of the x variable"
   ]
  },
  {
   "cell_type": "markdown",
   "metadata": {
    "slideshow": {
     "slide_type": "fragment"
    }
   },
   "source": [
    "We see that the type of the variable is `Int64`. \n",
    "\n",
    "What is an `Int64`? "
   ]
  },
  {
   "cell_type": "markdown",
   "metadata": {
    "slideshow": {
     "slide_type": "slide"
    }
   },
   "source": [
    "# Variables and types\n",
    "\n",
    "We can now work with `x` as if it represents the value of `2`. \n",
    "\n",
    "Since an integer is a number, we can perform basic mathematical operations. "
   ]
  },
  {
   "cell_type": "code",
   "execution_count": 6,
   "metadata": {
    "slideshow": {
     "slide_type": "fragment"
    }
   },
   "outputs": [
    {
     "data": {
      "text/plain": [
       "4"
      ]
     },
     "execution_count": 6,
     "metadata": {},
     "output_type": "execute_result"
    }
   ],
   "source": [
    "y = x + 2"
   ]
  },
  {
   "cell_type": "code",
   "execution_count": 7,
   "metadata": {
    "slideshow": {
     "slide_type": "fragment"
    }
   },
   "outputs": [
    {
     "data": {
      "text/plain": [
       "Int64"
      ]
     },
     "execution_count": 7,
     "metadata": {},
     "output_type": "execute_result"
    }
   ],
   "source": [
    "typeof(y)"
   ]
  },
  {
   "cell_type": "markdown",
   "metadata": {
    "slideshow": {
     "slide_type": "slide"
    }
   },
   "source": [
    "# Variables and types\n",
    "\n",
    "We can reassign the variable `x` to another value, even with another type. "
   ]
  },
  {
   "cell_type": "code",
   "execution_count": 8,
   "metadata": {
    "slideshow": {
     "slide_type": "fragment"
    }
   },
   "outputs": [
    {
     "data": {
      "text/plain": [
       "3.1345"
      ]
     },
     "execution_count": 8,
     "metadata": {},
     "output_type": "execute_result"
    }
   ],
   "source": [
    "x = 3.1345"
   ]
  },
  {
   "cell_type": "code",
   "execution_count": 9,
   "metadata": {
    "slideshow": {
     "slide_type": "fragment"
    }
   },
   "outputs": [
    {
     "data": {
      "text/plain": [
       "Float64"
      ]
     },
     "execution_count": 9,
     "metadata": {},
     "output_type": "execute_result"
    }
   ],
   "source": [
    "typeof(x)"
   ]
  },
  {
   "cell_type": "markdown",
   "metadata": {
    "slideshow": {
     "slide_type": "fragment"
    }
   },
   "source": [
    "Now `x` is a floating point number. \n",
    "\n",
    "What is a floating point number? \n",
    "\n",
    "This is an *approximation* to a decimal (or real) number. "
   ]
  },
  {
   "cell_type": "markdown",
   "metadata": {
    "slideshow": {
     "slide_type": "slide"
    }
   },
   "source": [
    "# Primitive data types\n",
    "\n",
    "There are several important data types that are at the core of computing. Some of these include, \n",
    "\n",
    "- **Booleans**: true and false\n",
    "- **Integers**: -3, -2, -1, 0, 1, 2, 3, etc.\n",
    "- **Floating point numbers**: 3.14, 2.95, 1.0, etc.\n",
    "- **Strings**: \"abc\", \"cat\", \"hello there\"\n",
    "- **Characters**: 'f', 'c', 'u'"
   ]
  },
  {
   "cell_type": "markdown",
   "metadata": {
    "slideshow": {
     "slide_type": "slide"
    }
   },
   "source": [
    "# Arithmetic operators\n",
    "\n",
    "We can perform basic arithmetic operations. \n",
    "\n",
    "Operators perform operations. \n",
    "\n",
    "These common operators are called the **arithmetic operators**. "
   ]
  },
  {
   "cell_type": "markdown",
   "metadata": {
    "slideshow": {
     "slide_type": "fragment"
    }
   },
   "source": [
    "| Expression | Name           | Description                              |\n",
    "| :--        | :--            | :--                                      |\n",
    "| `x + y`    | binary plus    | performs addition                        |\n",
    "| `x - y`    | binary minus   | performs subtraction                     |\n",
    "| `x * y`    | times          | performs multiplication                  |\n",
    "| `x / y`    | divide         | performs division                        |\n",
    "| `x ÷ y`    | integer divide | `x / y`, truncated to an integer         |\n",
    "| `x \\ y`    | inverse divide | equivalent to `y / x`                    |\n",
    "| `x ^ y`    | power          | raises `x` to the `y`th power            |\n",
    "| `x % y`    | remainder      | equivalent to `rem(x,y)`                 |"
   ]
  },
  {
   "cell_type": "markdown",
   "metadata": {
    "slideshow": {
     "slide_type": "slide"
    }
   },
   "source": [
    "# Arithmetic operators\n",
    "\n",
    "Here are some simple examples that utilise these arithmetic operators. "
   ]
  },
  {
   "cell_type": "code",
   "execution_count": 11,
   "metadata": {
    "slideshow": {
     "slide_type": "fragment"
    }
   },
   "outputs": [],
   "source": [
    "x = 2; y = 10;"
   ]
  },
  {
   "cell_type": "code",
   "execution_count": 12,
   "metadata": {
    "slideshow": {
     "slide_type": "fragment"
    }
   },
   "outputs": [
    {
     "data": {
      "text/plain": [
       "20"
      ]
     },
     "execution_count": 12,
     "metadata": {},
     "output_type": "execute_result"
    }
   ],
   "source": [
    "x * y"
   ]
  },
  {
   "cell_type": "code",
   "execution_count": 13,
   "metadata": {
    "slideshow": {
     "slide_type": "fragment"
    }
   },
   "outputs": [
    {
     "data": {
      "text/plain": [
       "1024"
      ]
     },
     "execution_count": 13,
     "metadata": {},
     "output_type": "execute_result"
    }
   ],
   "source": [
    "x ^ y"
   ]
  },
  {
   "cell_type": "code",
   "execution_count": 14,
   "metadata": {
    "slideshow": {
     "slide_type": "fragment"
    }
   },
   "outputs": [
    {
     "data": {
      "text/plain": [
       "5.0"
      ]
     },
     "execution_count": 14,
     "metadata": {},
     "output_type": "execute_result"
    }
   ],
   "source": [
    "y / x # Note that division converts integers to floats"
   ]
  },
  {
   "cell_type": "code",
   "execution_count": 15,
   "metadata": {
    "slideshow": {
     "slide_type": "fragment"
    }
   },
   "outputs": [
    {
     "data": {
      "text/plain": [
       "-26"
      ]
     },
     "execution_count": 15,
     "metadata": {},
     "output_type": "execute_result"
    }
   ],
   "source": [
    "2x - 3y"
   ]
  },
  {
   "cell_type": "code",
   "execution_count": 16,
   "metadata": {
    "slideshow": {
     "slide_type": "fragment"
    }
   },
   "outputs": [
    {
     "data": {
      "text/plain": [
       "1//5"
      ]
     },
     "execution_count": 16,
     "metadata": {},
     "output_type": "execute_result"
    }
   ],
   "source": [
    "x // y"
   ]
  },
  {
   "cell_type": "markdown",
   "metadata": {
    "slideshow": {
     "slide_type": "slide"
    }
   },
   "source": [
    "# Augmentation operators\n",
    "\n",
    "Augmentation operators will be especially important in the section on control flow."
   ]
  },
  {
   "cell_type": "code",
   "execution_count": 17,
   "metadata": {
    "slideshow": {
     "slide_type": "fragment"
    }
   },
   "outputs": [
    {
     "data": {
      "text/plain": [
       "3"
      ]
     },
     "execution_count": 17,
     "metadata": {},
     "output_type": "execute_result"
    }
   ],
   "source": [
    "x += 1 # same as x = x + 1"
   ]
  },
  {
   "cell_type": "code",
   "execution_count": 18,
   "metadata": {
    "slideshow": {
     "slide_type": "fragment"
    }
   },
   "outputs": [
    {
     "data": {
      "text/plain": [
       "6"
      ]
     },
     "execution_count": 18,
     "metadata": {},
     "output_type": "execute_result"
    }
   ],
   "source": [
    "x *= 2 # same as x = x * 2"
   ]
  },
  {
   "cell_type": "code",
   "execution_count": 19,
   "metadata": {
    "slideshow": {
     "slide_type": "fragment"
    }
   },
   "outputs": [
    {
     "data": {
      "text/plain": [
       "3.0"
      ]
     },
     "execution_count": 19,
     "metadata": {},
     "output_type": "execute_result"
    }
   ],
   "source": [
    "x /= 2 # same as x = x / 2 "
   ]
  },
  {
   "cell_type": "markdown",
   "metadata": {
    "slideshow": {
     "slide_type": "slide"
    }
   },
   "source": [
    "# Comparison operators\n",
    "\n",
    "These operators help to generate true and false values for our conditional statements\n",
    "\n",
    "| Operator  | Name                     |\n",
    "| :--       | :--                      |\n",
    "| `==`      | equality                 |\n",
    "| `!=`, `≠` | inequality               |\n",
    "| `<`       | less than                |\n",
    "| `<=`, `≤` | less than or equal to    |\n",
    "| `>`       | greater than             |\n",
    "| `>=`, `≥` | greater than or equal to |\n"
   ]
  },
  {
   "cell_type": "code",
   "execution_count": 26,
   "metadata": {
    "slideshow": {
     "slide_type": "fragment"
    }
   },
   "outputs": [],
   "source": [
    "x = 3; y = 2; "
   ]
  },
  {
   "cell_type": "code",
   "execution_count": 27,
   "metadata": {
    "slideshow": {
     "slide_type": "fragment"
    }
   },
   "outputs": [
    {
     "data": {
      "text/plain": [
       "false"
      ]
     },
     "execution_count": 27,
     "metadata": {},
     "output_type": "execute_result"
    }
   ],
   "source": [
    "x < y # If x is less than y this will return true, otherwise false"
   ]
  },
  {
   "cell_type": "code",
   "execution_count": 28,
   "metadata": {
    "slideshow": {
     "slide_type": "fragment"
    }
   },
   "outputs": [
    {
     "data": {
      "text/plain": [
       "true"
      ]
     },
     "execution_count": 28,
     "metadata": {},
     "output_type": "execute_result"
    }
   ],
   "source": [
    "x != y # If x is not equal to y then this will return true, otherwise false"
   ]
  },
  {
   "cell_type": "code",
   "execution_count": 29,
   "metadata": {
    "slideshow": {
     "slide_type": "fragment"
    }
   },
   "outputs": [
    {
     "data": {
      "text/plain": [
       "false"
      ]
     },
     "execution_count": 29,
     "metadata": {},
     "output_type": "execute_result"
    }
   ],
   "source": [
    "x == y # If x is equal to y this will return true, otherwise false"
   ]
  },
  {
   "cell_type": "markdown",
   "metadata": {
    "slideshow": {
     "slide_type": "slide"
    }
   },
   "source": [
    "# Data Structures\n",
    "\n",
    "There are several types of containers, such as arrays and tuples, in Julia. \n",
    "\n",
    "These containers contain data of different types. \n",
    "\n",
    "We explore some of the most commonly used containers here. \n",
    "\n",
    "Note that we have both **mutable** and **immutable** containers in Julia."
   ]
  },
  {
   "cell_type": "markdown",
   "metadata": {
    "slideshow": {
     "slide_type": "slide"
    }
   },
   "source": [
    "# Tuples\n",
    "\n",
    "Let us start with one of the basic types of containers, which are referred to as tuples. \n",
    "\n",
    "These containers are immutable, ordered and of a fixed length. "
   ]
  },
  {
   "cell_type": "code",
   "execution_count": null,
   "metadata": {},
   "outputs": [],
   "source": []
  }
 ],
 "metadata": {
  "celltoolbar": "Slideshow",
  "kernelspec": {
   "display_name": "Julia 1.7.0-rc2",
   "language": "julia",
   "name": "julia-1.7"
  },
  "language_info": {
   "file_extension": ".jl",
   "mimetype": "application/julia",
   "name": "julia",
   "version": "1.7.2"
  }
 },
 "nbformat": 4,
 "nbformat_minor": 4
}
