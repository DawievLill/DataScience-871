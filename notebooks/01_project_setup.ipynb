{
 "cells": [
  {
   "cell_type": "markdown",
   "metadata": {},
   "source": [
    "# Setting up a project"
   ]
  },
  {
   "cell_type": "markdown",
   "metadata": {},
   "source": [
    "In this section we will have a brief overview on some good coding practices and also discuss how you should attempt to start new research projects that are geared for transparency and reproducibility. "
   ]
  },
  {
   "cell_type": "code",
   "execution_count": 20,
   "metadata": {},
   "outputs": [
    {
     "name": "stdout",
     "output_type": "stream",
     "text": [
      "C:\\Users\\Dawie\\Dropbox\\2022\\871-data-science\\DataScience-871\\research-project\n"
     ]
    }
   ],
   "source": [
    "cd ~Dawie\\Dropbox\\2022\\871-data-science\\DataScience-871\\research-project # this is my directory, choose the appropriate one for yourself"
   ]
  },
  {
   "cell_type": "code",
   "execution_count": 17,
   "metadata": {},
   "outputs": [
    {
     "name": "stdout",
     "output_type": "stream",
     "text": [
      " Volume in drive C has no label.\n",
      " Volume Serial Number is 0280-C1B0\n",
      "\n",
      " Directory of C:\\Users\\Dawie\\Dropbox\\2022\\871-data-science\\DataScience-871\\research-project\n",
      "\n",
      "01/14/2022  12:56 PM    <DIR>          .\n",
      "01/14/2022  12:54 PM    <DIR>          ..\n",
      "01/14/2022  12:55 PM    <DIR>          bin\n",
      "01/14/2022  12:55 PM    <DIR>          data\n",
      "01/14/2022  12:55 PM    <DIR>          docs\n",
      "01/14/2022  12:55 PM                 0 README.md.txt\n",
      "01/14/2022  12:55 PM    <DIR>          results\n",
      "               1 File(s)              0 bytes\n",
      "               6 Dir(s)  40,181,493,760 bytes free\n"
     ]
    }
   ],
   "source": [
    "ls # we will list the contents of the directory"
   ]
  },
  {
   "cell_type": "code",
   "execution_count": null,
   "metadata": {},
   "outputs": [],
   "source": []
  }
 ],
 "metadata": {
  "kernelspec": {
   "display_name": "Python 3",
   "language": "python",
   "name": "python3"
  },
  "language_info": {
   "codemirror_mode": {
    "name": "ipython",
    "version": 3
   },
   "file_extension": ".py",
   "mimetype": "text/x-python",
   "name": "python",
   "nbconvert_exporter": "python",
   "pygments_lexer": "ipython3",
   "version": "3.8.3"
  }
 },
 "nbformat": 4,
 "nbformat_minor": 4
}
