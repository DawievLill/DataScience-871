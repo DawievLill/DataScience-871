{
 "cells": [
  {
   "cell_type": "markdown",
   "metadata": {},
   "source": [
    "# Shell basics"
   ]
  },
  {
   "cell_type": "markdown",
   "metadata": {},
   "source": [
    "In this section we will look at how to setup a project as well as how to work with the command line. You might be used to working with graphical user interfaces for most of your coding career, but it is useful to know how to work through the shell. This is not something that is often taught in economics programs, but if you are looking at a career in data science this might be very useful. We will start with looking at the basic file structures within a computer.  \n",
    "\n",
    "**Note**: The output displayed will be for the file structure on my computer. For your PC things will obviously be different."
   ]
  },
  {
   "cell_type": "markdown",
   "metadata": {},
   "source": [
    "The first thing that we will do is navigate to the proper directory where our files are located that we want to use for our project. Normally, I would first check what my **p**resent **w**orking **d**irectory is. You have encountered the idea of a present working directory in R, so this should be familiar. We can do this as follows,  . "
   ]
  },
  {
   "cell_type": "code",
   "execution_count": 2,
   "metadata": {},
   "outputs": [
    {
     "data": {
      "text/plain": [
       "'/home/dawie/Dropbox/2022/871-data-science/DataScience-871/notebooks'"
      ]
     },
     "execution_count": 2,
     "metadata": {},
     "output_type": "execute_result"
    }
   ],
   "source": [
    "pwd "
   ]
  },
  {
   "cell_type": "markdown",
   "metadata": {},
   "source": [
    "On my computer the **pwd** is the `notebooks` folder. In order to see the files **l**i**s**ted in the current working directory we use the `ls` command to list the files.  "
   ]
  },
  {
   "cell_type": "code",
   "execution_count": 3,
   "metadata": {},
   "outputs": [
    {
     "name": "stdout",
     "output_type": "stream",
     "text": [
      " 01_shell_basics.ipynb      lecture-3-slides.Rmd\n",
      " 06_fundamentals_ml.ipynb  'lecture-4 (2021-04-26 13-35-55).pdf'\n",
      " lecture-1.html             lecture-4.html\n",
      " lecture-1.Rmd              lecture-4.pdf\n",
      " lecture-2.html             lecture-4.Rmd\n",
      " lecture-2.pdf              lecture-4-slides.html\n",
      " lecture-2.Rmd              lecture-4-slides.Rmd\n",
      " lecture-2-slides.html      lecture-5.R\n",
      " lecture-2-slides.Rmd       lecture-5.Rmd\n",
      " lecture-3.html             lecture-8.html\n",
      " lecture-3.pdf              lecture-8.Rmd\n",
      " lecture-3.Rmd              lecture-9.html\n",
      " lecture-3-slides.html      lecture-9.Rmd\n"
     ]
    }
   ],
   "source": [
    "ls"
   ]
  },
  {
   "cell_type": "markdown",
   "metadata": {},
   "source": [
    "`cd` command to **c**hange **d**irectory"
   ]
  },
  {
   "cell_type": "markdown",
   "metadata": {},
   "source": []
  },
  {
   "cell_type": "code",
   "execution_count": 5,
   "metadata": {},
   "outputs": [
    {
     "name": "stdout",
     "output_type": "stream",
     "text": [
      "/home/dawie/Dropbox/2022/871-data-science/DataScience-871\n"
     ]
    }
   ],
   "source": [
    "cd .."
   ]
  },
  {
   "cell_type": "code",
   "execution_count": 6,
   "metadata": {},
   "outputs": [
    {
     "name": "stdout",
     "output_type": "stream",
     "text": [
      "/home/dawie/Dropbox/2022/871-data-science/DataScience-871/research-project\n"
     ]
    }
   ],
   "source": [
    "cd \\research-project "
   ]
  },
  {
   "cell_type": "code",
   "execution_count": 7,
   "metadata": {},
   "outputs": [
    {
     "name": "stdout",
     "output_type": "stream",
     "text": [
      "\u001b[0m\u001b[01;34mbin\u001b[0m/  \u001b[01;34mdata\u001b[0m/  \u001b[01;34mdocs\u001b[0m/  README.md  \u001b[01;34mresults\u001b[0m/\n"
     ]
    }
   ],
   "source": [
    "ls # we will list the contents of the research project directory"
   ]
  },
  {
   "cell_type": "markdown",
   "metadata": {},
   "source": [
    "In this folder structure you can see a broad template for organising a small project. For this project you see that here is a `README` file that gives us the basic information of the project. You might often see `licence`, `conduct` and `citation` files in projects, but we won't be dealing with those in detail in this course. The only boilerplate file that you need to concern yourself with is the `README` document, which we will talk about a bit more when we deal with **version control**. You will notice that this has the `.md` extension, which indicates that this is a Markdown file. This entire notebook was written in Markdown and I will talk about the format briefly in the lecture.  "
   ]
  },
  {
   "cell_type": "markdown",
   "metadata": {},
   "source": [
    "The directories for this project are organised by purpose. The runnable programs are located in the `bin` folder. This includes your shell scripts and R / Julia scripts. This folder is also sometimes named the `src` folder in projects. \n",
    "\n",
    "Our raw data goes into the `data` folder and the data in this folder is never modified. This is the original raw data. \n",
    "\n",
    "Results are put in the `results` folder. This includes the cleaned data, figures and other components that are created from the `bin` and `data` folder. "
   ]
  },
  {
   "cell_type": "markdown",
   "metadata": {},
   "source": []
  }
 ],
 "metadata": {
  "kernelspec": {
   "display_name": "Python 3",
   "language": "python",
   "name": "python3"
  },
  "language_info": {
   "codemirror_mode": {
    "name": "ipython",
    "version": 3
   },
   "file_extension": ".py",
   "mimetype": "text/x-python",
   "name": "python",
   "nbconvert_exporter": "python",
   "pygments_lexer": "ipython3",
   "version": "3.10.1"
  }
 },
 "nbformat": 4,
 "nbformat_minor": 4
}
