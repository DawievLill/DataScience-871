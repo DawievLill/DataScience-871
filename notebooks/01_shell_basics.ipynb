{
 "cells": [
  {
   "cell_type": "markdown",
   "metadata": {},
   "source": [
    "# <span style=\"color:#2c061f\"> DS 871: Lecture #1 </span>  \n",
    "\n",
    "<br>\n",
    "\n",
    "## <span style=\"color:#374045\"> Shell basics </span>\n",
    "\n",
    "\n",
    "#### <span style=\"color:#374045\"> Lecturer: </span> <span style=\"color:#d89216\"> <br> Dawie van Lill (dvanlill@sun.ac.za) </span>"
   ]
  },
  {
   "cell_type": "markdown",
   "metadata": {},
   "source": [
    "Before we start with the shell basics we will quickly run through how to install everything for different operating systems. We will do this in class so that I can see if there are any potential problems. We had some issues last year with the installation process. \n",
    "\n",
    "Today is about working with a command line interface. There are many shell variants, and we will be working with **Bash** (**B**ourne **a**gain **sh**ell). This is the default for Linux and MacOS and needs to be installed for Windows. It is easiest to work with a Unix based operating system when coding, such as Linux or MacOS. However, I do realise that many of you will be working with Windows. \n",
    "\n",
    "If you want to know more about Linux then you are welcome to come and speak to me about it. I do most of my work in a Linux environment and I think programming is much easier in Linux and MacOS. I use [Manjaro](https://manjaro.org/), but I think that [PopOS](https://pop.system76.com/) is a good Linux distribution to start with. It is quite similar to MacOS and you don't need to use the command line as frequently as with other Linux distributions. \n",
    "\n",
    "In this section we will look at how to setup a project as well as how to work with the command line. You might be used to working with graphical user interfaces for most of your coding career, but it is useful to know how to work through the shell. This is not something that is often taught in economics programs, but if you are looking at a career in data science this might be very useful. [Here](https://raw.githack.com/uo-ec607/lectures/master/03-shell/03-shell.html#14) are some of the reasons why we might be interested in using the shell. We will start with looking at the basic file structures within a computer. The key points are the following, \n",
    "\n",
    "1. Power\n",
    "2. Reproducibility\n",
    "3. Interacting with servers and super computers\n",
    "4. Automating workflow and analysis pipelines\n",
    "\n",
    "The primary references for this section are the notes from [Merely Useful](https://merely-useful.tech/py-rse/) and the slides from [Grant McDermott](https://raw.githack.com/uo-ec607/lectures/master/03-shell/03-shell.html#1) \n",
    "\n",
    "**Note**: The output displayed will be for the file structure on my computer. For your PC things will obviously be different."
   ]
  },
  {
   "cell_type": "markdown",
   "metadata": {},
   "source": [
    "## Some things we can use the shell for"
   ]
  },
  {
   "cell_type": "markdown",
   "metadata": {},
   "source": [
    "Let us quickly talk about some things that we can use the shell for. \n",
    "\n",
    "- renaming and moving files **en masse**\n",
    "- finding things on the computer\n",
    "- combining and manipulating PDFs\n",
    "- installing and updating software\n",
    "- scheduling tasks\n",
    "- monitoring resources on your system\n",
    "- connecting to cloud environments\n",
    "- running jobs on super computers\n",
    "\n",
    "There are many more examples, but these are some of the fundamental things that make the command line useful. "
   ]
  },
  {
   "cell_type": "markdown",
   "metadata": {},
   "source": [
    "## Listing files and their properties"
   ]
  },
  {
   "cell_type": "markdown",
   "metadata": {},
   "source": [
    "The first thing that you want to do is open up the Bash shell. You can do this through the [built-in terminal](https://support.rstudio.com/hc/en-us/articles/115010737148-Using-the-RStudio-Terminal) in **RStudio** if you prefer. I will quickly demonstrate this in class. \n",
    "\n",
    "It is important to note that all Bash commands have the same basic syntax -- command, option(s), argument(s)\n",
    "\n",
    "An example would be `ls -lh ~/dawie/`. We will see what these components mean soon. The options and arguments are not always needed, but you will need a command (such as `ls`). The options start with a dash and are usually one letter. Arguments tell the command what to operate on, so this is usually a file, path or set of files and folders. \n",
    "\n",
    "The first thing I normally do is check my current working directory and list the files located in this directory. You have encountered the idea of a current working directory in R, so this should be familiar. We can do this by running the following command, which is for **p**rint **w**orking **d**irectory. (Notice that we only run the command, there are no options and arguments)."
   ]
  },
  {
   "cell_type": "code",
   "execution_count": 1,
   "metadata": {},
   "outputs": [
    {
     "data": {
      "text/plain": [
       "'/home/dawie/Dropbox/2022/871-data-science/DataScience-871/notebooks'"
      ]
     },
     "execution_count": 1,
     "metadata": {},
     "output_type": "execute_result"
    }
   ],
   "source": [
    "pwd "
   ]
  },
  {
   "cell_type": "markdown",
   "metadata": {},
   "source": [
    "On my computer the **pwd** is the `notebooks` folder. In order to see the files **l**i**s**ted in the current working directory we use the `ls` command to list the files. We use the `-a`, `-l` and `-h` options to show `all` the folders and files. The `-l` is for long format and the `-h` is for human readable."
   ]
  },
  {
   "cell_type": "code",
   "execution_count": 2,
   "metadata": {},
   "outputs": [
    {
     "name": "stdout",
     "output_type": "stream",
     "text": [
      "total 11M\n",
      "drwxr-xr-x  2 dawie dawie 4.0K Feb 10 11:41 \u001b[0m\u001b[01;34m.\u001b[0m/\n",
      "drwxr-xr-x 17 dawie dawie 4.0K Feb 10 13:05 \u001b[01;34m..\u001b[0m/\n",
      "-rw-r--r--  1 dawie dawie  31K Feb 10 13:15 01_shell_basics.ipynb\n",
      "-rw-r--r--  1 dawie dawie 5.9M Jan 10 15:35 lecture-1.html\n",
      "-rw-r--r--  1 dawie dawie  26K Jan 10 15:35 lecture-1.Rmd\n",
      "-rw-r--r--  1 dawie dawie 806K Jan 10 15:35 lecture-2.html\n",
      "-rw-r--r--  1 dawie dawie  585 Jan 10 15:35 lecture-2.Rmd\n",
      "-rw-r--r--  1 dawie dawie  16K Jan 10 15:35 lecture-2-slides.html\n",
      "-rw-r--r--  1 dawie dawie  15K Jan 10 15:35 lecture-2-slides.Rmd\n",
      "-rw-r--r--  1 dawie dawie 806K Jan 10 15:35 lecture-3.html\n",
      "-rw-r--r--  1 dawie dawie  640 Jan 10 15:35 lecture-3.Rmd\n",
      "-rw-r--r--  1 dawie dawie  10K Jan 10 15:35 lecture-3-slides.html\n",
      "-rw-r--r--  1 dawie dawie 5.5K Jan 10 15:35 lecture-3-slides.Rmd\n",
      "-rw-r--r--  1 dawie dawie 1.2M Jan 10 15:35 lecture-4.html\n",
      "-rw-r--r--  1 dawie dawie  755 Jan 10 15:35 lecture-4.Rmd\n",
      "-rw-r--r--  1 dawie dawie  17K Jan 10 15:35 lecture-4-slides.html\n",
      "-rw-r--r--  1 dawie dawie  22K Jan 10 15:35 lecture-4-slides.Rmd\n",
      "-rw-r--r--  1 dawie dawie 8.2K Jan 10 15:35 lecture-5.R\n",
      "-rw-r--r--  1 dawie dawie 5.1K Jan 10 15:35 lecture-5.Rmd\n",
      "-rw-r--r--  1 dawie dawie 1.1M Jan 10 15:35 lecture-8.html\n",
      "-rw-r--r--  1 dawie dawie 4.1K Jan 10 15:35 lecture-8.Rmd\n",
      "-rw-r--r--  1 dawie dawie 1.1M Jan 10 15:35 lecture-9.html\n",
      "-rw-r--r--  1 dawie dawie 4.0K Jan 10 15:35 lecture-9.Rmd\n"
     ]
    }
   ],
   "source": [
    "ls -l -a -h "
   ]
  },
  {
   "cell_type": "markdown",
   "metadata": {},
   "source": [
    "You might notice that there is a lot of information here. Let us analyse this one piece at a time. \n",
    "\n",
    "The first column indicates the object type. It can either be a (`d`) directory / folder, (`l`) link or (`-`) file. In the case of the first line, we see that this is a directory. \n",
    "\n",
    "The following nine columns indicate the permissions associated with the objects user types. In this case we have `r` (read), `w` (write) or `x` (execute) access. The `-` indicates missing permissions. \n",
    "\n",
    "The remaining columns represent the hard links to the object, the identity of the owner's of the object and then descriptive elements about the object. \n",
    "\n",
    "In terms of the first row, the output shows a special directory called `.`, which is the current working directory. In the second row, we have `..` which means the directory that contains the current one. This is referred to as the **parent** directory. \n",
    "\n",
    "Beyond the first two columns, the rest of the objects are files. We can see the files listed here are Jupyter notebooks, `html` files and some `RMarkdown` files. "
   ]
  },
  {
   "cell_type": "markdown",
   "metadata": {},
   "source": [
    "## Moving between directories"
   ]
  },
  {
   "cell_type": "markdown",
   "metadata": {},
   "source": [
    "Now let's navigate to the `research project` folder. In order to this we will use the `cd` command to **c**hange **d**irectory. In this case I know that the `research-project` folder is located higher up in the file structure (in the parent directory). In order to go back one level in the directory, we can use the following command,"
   ]
  },
  {
   "cell_type": "code",
   "execution_count": 3,
   "metadata": {},
   "outputs": [
    {
     "name": "stdout",
     "output_type": "stream",
     "text": [
      "/home/dawie/Dropbox/2022/871-data-science/DataScience-871\n"
     ]
    }
   ],
   "source": [
    "cd .."
   ]
  },
  {
   "cell_type": "markdown",
   "metadata": {},
   "source": [
    "If you wanted to move up higher than the parent directory, you could use `cd ../..`, which moves up two directories. \n",
    "\n",
    "The parent directory in our case is called `DataScience-871`. Once again, list the folders and files to get an idea of directory structure. "
   ]
  },
  {
   "cell_type": "code",
   "execution_count": 4,
   "metadata": {},
   "outputs": [
    {
     "name": "stdout",
     "output_type": "stream",
     "text": [
      "\u001b[0m\u001b[01;34m.\u001b[0m/         \u001b[01;34m03-sql\u001b[0m/         \u001b[01;34m07-regularisation\u001b[0m/  \u001b[01;34m11-cloud\u001b[0m/     README.md\n",
      "\u001b[01;34m..\u001b[0m/        \u001b[01;34m04-julia\u001b[0m/       \u001b[01;34m08-decision-trees\u001b[0m/  \u001b[01;34m12-big-data\u001b[0m/  \u001b[01;34mresearch-project\u001b[0m/\n",
      "\u001b[01;34m01-shell\u001b[0m/  \u001b[01;34m05-julia-data\u001b[0m/  \u001b[01;34m09-boosting\u001b[0m/        \u001b[01;34m.git\u001b[0m/\n",
      "\u001b[01;34m02-git\u001b[0m/    \u001b[01;34m06-ml-intro\u001b[0m/    \u001b[01;34m10-parallel\u001b[0m/        \u001b[01;34mnotebooks\u001b[0m/\n"
     ]
    }
   ],
   "source": [
    "ls -a # you can use whichever options you prefer"
   ]
  },
  {
   "cell_type": "markdown",
   "metadata": {},
   "source": [
    "We can see the folder we are `research-project` folder we are looking for and can easily access it by using the `cd research-project` command. \n",
    "\n",
    "However, let us go to the **home** directory and navigate to the `research-project` folder from there. This is a good exercise that you can follow on your computer at home. We start with just typing `cd`. This will navigate us to the home directory for the current user. "
   ]
  },
  {
   "cell_type": "code",
   "execution_count": 5,
   "metadata": {},
   "outputs": [
    {
     "name": "stdout",
     "output_type": "stream",
     "text": [
      "/home/dawie\n"
     ]
    }
   ],
   "source": [
    "cd"
   ]
  },
  {
   "cell_type": "markdown",
   "metadata": {},
   "source": [
    "Let us quickly analyse the directory output above. The first component is the **root** directory and this holds everything. This refers to the slash character `/` on its own. Next we have the **home** directory, which contains the directory for the current user, which in this case is `dawie`. The second slash operator is a separator. In Windows this would have been two backslashes (`\\\\`) instead of a forward slash. Also, in Windows the **home** directory is usually called `Users`. \n",
    "\n",
    "Another shortcut to get to the **home** directory is to use the command `cd ~`, where the `~` is a special shortcut for **home**. \n",
    "\n",
    "\n",
    "From this point I am going to navigate to my `DataScience-871` folder. From above you can see the absolute location of the folder. In my case I first need to change the directory to the `Dropbox` folder.  "
   ]
  },
  {
   "cell_type": "code",
   "execution_count": 6,
   "metadata": {},
   "outputs": [
    {
     "name": "stdout",
     "output_type": "stream",
     "text": [
      "/home/dawie/Dropbox\n"
     ]
    }
   ],
   "source": [
    "cd Dropbox"
   ]
  },
  {
   "cell_type": "markdown",
   "metadata": {},
   "source": [
    "Now that I am in the Dropbox folder I want to go to my `2022` folder. I can do this as follows, "
   ]
  },
  {
   "cell_type": "code",
   "execution_count": 7,
   "metadata": {},
   "outputs": [
    {
     "name": "stdout",
     "output_type": "stream",
     "text": [
      "/home/dawie/Dropbox/2022\n"
     ]
    }
   ],
   "source": [
    "cd 2022"
   ]
  },
  {
   "cell_type": "markdown",
   "metadata": {},
   "source": [
    "Now let's take a quick look at the folders that are located in my 2022 folder. "
   ]
  },
  {
   "cell_type": "code",
   "execution_count": 8,
   "metadata": {},
   "outputs": [
    {
     "name": "stdout",
     "output_type": "stream",
     "text": [
      "\u001b[0m\u001b[01;34m.\u001b[0m/   \u001b[01;34m2022-research\u001b[0m/  \u001b[01;34m871-data-science\u001b[0m/  \u001b[01;34m872-macro\u001b[0m/  \u001b[01;34mcomp-reading\u001b[0m/\n",
      "\u001b[01;34m..\u001b[0m/  \u001b[01;34m318-macro\u001b[0m/      \u001b[01;34m872-ats\u001b[0m/           \u001b[01;34madmin\u001b[0m/\n"
     ]
    }
   ],
   "source": [
    "ls -a"
   ]
  },
  {
   "cell_type": "markdown",
   "metadata": {},
   "source": [
    "If we try and move to a folder that doesn't exist in this directory we will receive and error message. "
   ]
  },
  {
   "cell_type": "code",
   "execution_count": 9,
   "metadata": {},
   "outputs": [
    {
     "name": "stdout",
     "output_type": "stream",
     "text": [
      "[Errno 2] No such file or directory: 'comp'\n",
      "/home/dawie/Dropbox/2022\n"
     ]
    }
   ],
   "source": [
    "cd comp"
   ]
  },
  {
   "cell_type": "markdown",
   "metadata": {},
   "source": [
    "The relevant folder seems to be te `871-data-science` folder. So we change the directory once again. We keep doing this till we get to the `DataScience-871` folder. Obviously on your system this will be saved in a different location. You should know where the folder is located on your computer. We can briefly discuss this in class. There are slight differences for different operating systems. "
   ]
  },
  {
   "cell_type": "code",
   "execution_count": 10,
   "metadata": {},
   "outputs": [
    {
     "name": "stdout",
     "output_type": "stream",
     "text": [
      "/home/dawie/Dropbox/2022/871-data-science\n"
     ]
    }
   ],
   "source": [
    "cd 871-data-science"
   ]
  },
  {
   "cell_type": "code",
   "execution_count": 11,
   "metadata": {},
   "outputs": [
    {
     "name": "stdout",
     "output_type": "stream",
     "text": [
      "\u001b[0m\u001b[01;34mDataScience-871\u001b[0m/\n"
     ]
    }
   ],
   "source": [
    "ls"
   ]
  },
  {
   "cell_type": "code",
   "execution_count": 12,
   "metadata": {},
   "outputs": [
    {
     "name": "stdout",
     "output_type": "stream",
     "text": [
      "/home/dawie/Dropbox/2022/871-data-science/DataScience-871\n"
     ]
    }
   ],
   "source": [
    "cd DataScience-871"
   ]
  },
  {
   "cell_type": "code",
   "execution_count": 13,
   "metadata": {},
   "outputs": [
    {
     "name": "stdout",
     "output_type": "stream",
     "text": [
      "\u001b[0m\u001b[01;34m01-shell\u001b[0m/  \u001b[01;34m04-julia\u001b[0m/       \u001b[01;34m07-regularisation\u001b[0m/  \u001b[01;34m10-parallel\u001b[0m/  \u001b[01;34mnotebooks\u001b[0m/\n",
      "\u001b[01;34m02-git\u001b[0m/    \u001b[01;34m05-julia-data\u001b[0m/  \u001b[01;34m08-decision-trees\u001b[0m/  \u001b[01;34m11-cloud\u001b[0m/     README.md\n",
      "\u001b[01;34m03-sql\u001b[0m/    \u001b[01;34m06-ml-intro\u001b[0m/    \u001b[01;34m09-boosting\u001b[0m/        \u001b[01;34m12-big-data\u001b[0m/  \u001b[01;34mresearch-project\u001b[0m/\n"
     ]
    }
   ],
   "source": [
    "ls"
   ]
  },
  {
   "cell_type": "markdown",
   "metadata": {},
   "source": [
    "We see that one of the folders is called `research-project`. That is where we want to navigate, so we use the `cd` command along with the folder name as follows. "
   ]
  },
  {
   "cell_type": "code",
   "execution_count": 14,
   "metadata": {},
   "outputs": [
    {
     "name": "stdout",
     "output_type": "stream",
     "text": [
      "/home/dawie/Dropbox/2022/871-data-science/DataScience-871/research-project\n"
     ]
    }
   ],
   "source": [
    "cd research-project "
   ]
  },
  {
   "cell_type": "markdown",
   "metadata": {},
   "source": [
    "You can now see that the **pwd** is the `research-project` folder. Let us explore this folder to see what it contains. "
   ]
  },
  {
   "cell_type": "code",
   "execution_count": 15,
   "metadata": {},
   "outputs": [
    {
     "name": "stdout",
     "output_type": "stream",
     "text": [
      "total 28K\n",
      "drwxr-xr-x 2 dawie dawie 4.0K Jan 14 12:55 \u001b[0m\u001b[01;34mbin\u001b[0m/\n",
      "drwxr-xr-x 2 dawie dawie 4.0K Jan 14 12:55 \u001b[01;34mdata\u001b[0m/\n",
      "drwxr-xr-x 2 dawie dawie 4.0K Feb  9 15:01 \u001b[01;34mdocs\u001b[0m/\n",
      "-rw-r--r-- 1 dawie dawie    0 Feb 10 13:13 example1.txt\n",
      "-rw-r--r-- 1 dawie dawie    0 Feb 10 13:13 example2.txt\n",
      "drwxr-xr-x 2 dawie dawie 4.0K Feb  9 15:01 \u001b[01;34mexamples\u001b[0m/\n",
      "-rw-r--r-- 1 dawie dawie    4 Jan 14 13:28 README.md\n",
      "drwxr-xr-x 2 dawie dawie 4.0K Jan 14 12:55 \u001b[01;34mresults\u001b[0m/\n",
      "drwxr-xr-x 2 dawie dawie 4.0K Jan 18 10:07 \u001b[01;34msrc\u001b[0m/\n"
     ]
    }
   ],
   "source": [
    "ls -l -h"
   ]
  },
  {
   "cell_type": "markdown",
   "metadata": {},
   "source": [
    "In this folder structure you can see a broad template for organising a small project. \n",
    "\n",
    "For this project you see that here is a `README.md` file that gives us the basic information of the project. You might often see `licence`, `conduct` and `citation` files in projects, but we won't be dealing with those in detail in this course. The only boilerplate file that you need to concern yourself with is the `README.md` document, which we will talk about a bit more when we deal with **version control**. You will notice that this has the `.md` extension, which indicates that this is a Markdown file. This entire notebook was written in Markdown and I will talk about the format briefly in the lecture.  "
   ]
  },
  {
   "cell_type": "markdown",
   "metadata": {},
   "source": [
    "The directories for this project are organised by purpose. \n",
    "\n",
    "Some runnable programs are located in the `bin` folder. \n",
    "\n",
    "One normally keeps source files in a folder named the `src` folder, which includes your shell scripts and R / Julia scripts.\n",
    "\n",
    "`src` folders normally contain human readable code and `bin` the computer readable codes. This is not an important distinction for our purposes. We will mostly work with source code. \n",
    "\n",
    "Our raw data goes into the `data` folder and the data in this folder is never modified. This is the original raw data. \n",
    "\n",
    "Results are put in the `results` folder. This includes the cleaned data, figures and other components that are created from the `bin`, `src` and `data` folders. "
   ]
  },
  {
   "cell_type": "markdown",
   "metadata": {},
   "source": [
    "## Creating new files and directories"
   ]
  },
  {
   "cell_type": "markdown",
   "metadata": {},
   "source": [
    "In the next part we will be creating some files and directories that relate to our research project. In order to do this we use the command `mkdir`, which is short for **m**ake **d**irectory."
   ]
  },
  {
   "cell_type": "code",
   "execution_count": 16,
   "metadata": {},
   "outputs": [],
   "source": [
    "mkdir new_dir"
   ]
  },
  {
   "cell_type": "code",
   "execution_count": 17,
   "metadata": {},
   "outputs": [
    {
     "name": "stdout",
     "output_type": "stream",
     "text": [
      "\u001b[0m\u001b[01;34mbin\u001b[0m/   \u001b[01;34mdocs\u001b[0m/         example2.txt  \u001b[01;34mnew_dir\u001b[0m/   \u001b[01;34mresults\u001b[0m/\n",
      "\u001b[01;34mdata\u001b[0m/  example1.txt  \u001b[01;34mexamples\u001b[0m/     README.md  \u001b[01;34msrc\u001b[0m/\n"
     ]
    }
   ],
   "source": [
    "ls "
   ]
  },
  {
   "cell_type": "markdown",
   "metadata": {},
   "source": [
    "You should now be able to see the `new_dir` directory that we have created with this command. This is similar to creating a new folder, as you would with a graphical file explorer in your operating system of choice. "
   ]
  },
  {
   "cell_type": "markdown",
   "metadata": {},
   "source": [
    "### Naming directories (detour)"
   ]
  },
  {
   "cell_type": "markdown",
   "metadata": {},
   "source": [
    "There are a few \"rules\" about naming directories that we can quickly mention. \n",
    "\n",
    "1. Don't use spaces. \n",
    "2. Don't begin the name with a dash\n",
    "3. Stick to letters, digits, dashes and underscores for names. \n",
    "\n",
    "Examples of bad names\n",
    "\n",
    "- Data Science 871 -- Has spaces\n",
    "- -DataScience871 -- Starts with a dash\n",
    "- #DataScienceLife -- Don't use hashtags!\n",
    "\n",
    "Examples of \"good\" names\n",
    "\n",
    "- DataScience871\n",
    "- DataScience-871\n",
    "- datascience-871\n",
    "- data_science_871\n",
    "\n",
    "I generally stick to lowercase with dashes, but that is a preference. It is simply easier to type. "
   ]
  },
  {
   "cell_type": "markdown",
   "metadata": {},
   "source": [
    "Getting back to our example with the new directory we just created. "
   ]
  },
  {
   "cell_type": "code",
   "execution_count": 18,
   "metadata": {},
   "outputs": [],
   "source": [
    "ls new_dir"
   ]
  },
  {
   "cell_type": "markdown",
   "metadata": {},
   "source": [
    "You will see that this directory is empty. So let us create a file and put it into this new directory. The files name is going to be `draft.txt`. The `.txt` extension indicates to us that this will be a text file. in order to create an empty file we can use the `touch` command. "
   ]
  },
  {
   "cell_type": "code",
   "execution_count": 19,
   "metadata": {},
   "outputs": [
    {
     "name": "stdout",
     "output_type": "stream",
     "text": [
      "/home/dawie/Dropbox/2022/871-data-science/DataScience-871/research-project/new_dir\n"
     ]
    }
   ],
   "source": [
    "cd new_dir"
   ]
  },
  {
   "cell_type": "code",
   "execution_count": 20,
   "metadata": {},
   "outputs": [],
   "source": [
    "!touch draft.txt"
   ]
  },
  {
   "cell_type": "markdown",
   "metadata": {},
   "source": [
    "We need to check that this works by listing the elements. \n",
    "\n",
    "**Note** I used an exclamation mark here in front of touch in order to get the code to work in the Jupyter notebook. In your shell you do not need to use this exclamation mark. "
   ]
  },
  {
   "cell_type": "code",
   "execution_count": 21,
   "metadata": {},
   "outputs": [
    {
     "name": "stdout",
     "output_type": "stream",
     "text": [
      "draft.txt\n"
     ]
    }
   ],
   "source": [
    "ls"
   ]
  },
  {
   "cell_type": "markdown",
   "metadata": {},
   "source": [
    "We can also delete the objects that we created with the `rm` command. "
   ]
  },
  {
   "cell_type": "code",
   "execution_count": 22,
   "metadata": {},
   "outputs": [],
   "source": [
    "rm draft.txt"
   ]
  },
  {
   "cell_type": "markdown",
   "metadata": {},
   "source": [
    "If you wanted to delete the entire directory then you would have to use `rmdir`. If there are files in the directory you will get a warning telling you that this might not be the best idea. If there are files and you want to remove the directory, then you can use the recursive option `-r`."
   ]
  },
  {
   "cell_type": "code",
   "execution_count": 23,
   "metadata": {},
   "outputs": [
    {
     "name": "stdout",
     "output_type": "stream",
     "text": [
      "/home/dawie/Dropbox/2022/871-data-science/DataScience-871/research-project\n"
     ]
    }
   ],
   "source": [
    "cd .."
   ]
  },
  {
   "cell_type": "code",
   "execution_count": 24,
   "metadata": {},
   "outputs": [],
   "source": [
    "rmdir new_dir"
   ]
  },
  {
   "cell_type": "code",
   "execution_count": 25,
   "metadata": {},
   "outputs": [
    {
     "name": "stdout",
     "output_type": "stream",
     "text": [
      "\u001b[0m\u001b[01;34m.\u001b[0m/   \u001b[01;34mbin\u001b[0m/   \u001b[01;34mdocs\u001b[0m/         example2.txt  README.md  \u001b[01;34msrc\u001b[0m/\n",
      "\u001b[01;34m..\u001b[0m/  \u001b[01;34mdata\u001b[0m/  example1.txt  \u001b[01;34mexamples\u001b[0m/     \u001b[01;34mresults\u001b[0m/\n"
     ]
    }
   ],
   "source": [
    "ls -a"
   ]
  },
  {
   "cell_type": "markdown",
   "metadata": {},
   "source": [
    "You will note that `new_dir` is now gone from the list. "
   ]
  },
  {
   "cell_type": "markdown",
   "metadata": {},
   "source": [
    "## Copying and renaming"
   ]
  },
  {
   "cell_type": "markdown",
   "metadata": {},
   "source": [
    "Another important command is copy. Let us make a new sub-directory with copies and then copy across files from another folder. "
   ]
  },
  {
   "cell_type": "markdown",
   "metadata": {},
   "source": []
  },
  {
   "cell_type": "code",
   "execution_count": 26,
   "metadata": {},
   "outputs": [
    {
     "name": "stdout",
     "output_type": "stream",
     "text": [
      "mkdir: cannot create directory ‘examples’: File exists\n"
     ]
    }
   ],
   "source": [
    "mkdir examples"
   ]
  },
  {
   "cell_type": "code",
   "execution_count": 27,
   "metadata": {},
   "outputs": [
    {
     "name": "stdout",
     "output_type": "stream",
     "text": [
      "/home/dawie/Dropbox/2022/871-data-science/DataScience-871/research-project/examples\n"
     ]
    }
   ],
   "source": [
    "cd examples"
   ]
  },
  {
   "cell_type": "code",
   "execution_count": 28,
   "metadata": {},
   "outputs": [],
   "source": [
    "!touch example1.txt example2.txt"
   ]
  },
  {
   "cell_type": "code",
   "execution_count": 29,
   "metadata": {},
   "outputs": [
    {
     "name": "stdout",
     "output_type": "stream",
     "text": [
      "\u001b[0m\u001b[01;34m.\u001b[0m/  \u001b[01;34m..\u001b[0m/  example1.txt  example2.txt\n"
     ]
    }
   ],
   "source": [
    "ls -a"
   ]
  },
  {
   "cell_type": "code",
   "execution_count": 30,
   "metadata": {},
   "outputs": [
    {
     "name": "stdout",
     "output_type": "stream",
     "text": [
      "/home/dawie/Dropbox/2022/871-data-science/DataScience-871/research-project\n"
     ]
    }
   ],
   "source": [
    "cd .."
   ]
  },
  {
   "cell_type": "markdown",
   "metadata": {},
   "source": [
    "Let us now copy `example1.txt` into the `docs` folder with a new name. "
   ]
  },
  {
   "cell_type": "code",
   "execution_count": 31,
   "metadata": {},
   "outputs": [],
   "source": [
    "cp examples/example1.txt docs/doc1.txt"
   ]
  },
  {
   "cell_type": "code",
   "execution_count": 32,
   "metadata": {},
   "outputs": [
    {
     "name": "stdout",
     "output_type": "stream",
     "text": [
      "doc1.txt\n"
     ]
    }
   ],
   "source": [
    "ls docs"
   ]
  },
  {
   "cell_type": "markdown",
   "metadata": {},
   "source": [
    "We can also move and rename files with the `mv` command. This is similar to copying, but completely moves the file to a new location. "
   ]
  },
  {
   "cell_type": "code",
   "execution_count": 33,
   "metadata": {},
   "outputs": [],
   "source": [
    "mv examples/example2.txt docs"
   ]
  },
  {
   "cell_type": "code",
   "execution_count": 34,
   "metadata": {},
   "outputs": [
    {
     "name": "stdout",
     "output_type": "stream",
     "text": [
      "doc1.txt  example2.txt\n"
     ]
    }
   ],
   "source": [
    "ls docs"
   ]
  },
  {
   "cell_type": "markdown",
   "metadata": {},
   "source": [
    "We can also move the file back to its original location. "
   ]
  },
  {
   "cell_type": "code",
   "execution_count": 35,
   "metadata": {},
   "outputs": [],
   "source": [
    "mv docs/example2.txt examples"
   ]
  },
  {
   "cell_type": "markdown",
   "metadata": {},
   "source": [
    "If you are moving the object into the same directory but with a new object name, then you are effectively just renaming it. "
   ]
  },
  {
   "cell_type": "code",
   "execution_count": 36,
   "metadata": {},
   "outputs": [],
   "source": [
    "mv docs/doc1.txt docs/doc_new.txt"
   ]
  },
  {
   "cell_type": "markdown",
   "metadata": {},
   "source": [
    "There is a more convenient way to do this, the `rename` function. The syntax here is `pattern`, `replacement`, `file(s)`."
   ]
  },
  {
   "cell_type": "code",
   "execution_count": 37,
   "metadata": {},
   "outputs": [],
   "source": [
    "!rename txt csv docs/doc_new.txt"
   ]
  },
  {
   "cell_type": "code",
   "execution_count": 38,
   "metadata": {},
   "outputs": [
    {
     "name": "stdout",
     "output_type": "stream",
     "text": [
      "doc_new.csv\n"
     ]
    }
   ],
   "source": [
    "ls docs"
   ]
  },
  {
   "cell_type": "code",
   "execution_count": 39,
   "metadata": {},
   "outputs": [],
   "source": [
    "!rename csv txt docs/doc_new.csv"
   ]
  },
  {
   "cell_type": "code",
   "execution_count": 40,
   "metadata": {},
   "outputs": [],
   "source": [
    "mv docs/doc_new.txt docs/doc1.txt"
   ]
  },
  {
   "cell_type": "markdown",
   "metadata": {},
   "source": [
    "The place where `rename` is super useful is when we can use it in combination with regular expressions and **wildcards**. You would have dealt with the concept of regular expressions in the first part of the course. \n",
    "\n",
    "With these methods we could change all the `.txt` file extensions in the exmamples folder to `.csv` in one line. "
   ]
  },
  {
   "cell_type": "code",
   "execution_count": 41,
   "metadata": {},
   "outputs": [],
   "source": [
    "!rename txt csv examples/* # the star represents the wild card expression here"
   ]
  },
  {
   "cell_type": "code",
   "execution_count": 42,
   "metadata": {},
   "outputs": [
    {
     "name": "stdout",
     "output_type": "stream",
     "text": [
      "example1.csv  example2.csv\n"
     ]
    }
   ],
   "source": [
    "ls examples"
   ]
  },
  {
   "cell_type": "markdown",
   "metadata": {},
   "source": [
    "We can then just as easily change it back, with a similar command. Make sure you understand what is happening here. "
   ]
  },
  {
   "cell_type": "code",
   "execution_count": 43,
   "metadata": {},
   "outputs": [],
   "source": [
    "!rename csv txt examples/* "
   ]
  },
  {
   "cell_type": "code",
   "execution_count": 44,
   "metadata": {},
   "outputs": [
    {
     "name": "stdout",
     "output_type": "stream",
     "text": [
      "example1.txt  example2.txt\n"
     ]
    }
   ],
   "source": [
    "ls examples"
   ]
  },
  {
   "cell_type": "markdown",
   "metadata": {},
   "source": [
    "Wildcards are special characters that can be used as a replacement for other characters. The two most important ones are the `*` and `?`. "
   ]
  },
  {
   "cell_type": "code",
   "execution_count": null,
   "metadata": {},
   "outputs": [],
   "source": []
  }
 ],
 "metadata": {
  "kernelspec": {
   "display_name": "Python 3",
   "language": "python",
   "name": "python3"
  },
  "language_info": {
   "codemirror_mode": {
    "name": "ipython",
    "version": 3
   },
   "file_extension": ".py",
   "mimetype": "text/x-python",
   "name": "python",
   "nbconvert_exporter": "python",
   "pygments_lexer": "ipython3",
   "version": "3.10.2"
  }
 },
 "nbformat": 4,
 "nbformat_minor": 4
}
