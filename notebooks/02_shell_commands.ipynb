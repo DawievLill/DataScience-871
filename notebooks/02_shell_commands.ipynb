{
 "cells": [
  {
   "cell_type": "markdown",
   "metadata": {},
   "source": [
    "# Shell basics"
   ]
  },
  {
   "cell_type": "markdown",
   "metadata": {},
   "source": [
    "These are a set of short notes that are derived mainly from the wonderful set of notes of research software engineering, that can be found [here](https://merely-useful.tech/py-rse/). Another good resource to consult is the MIT missing semester course, which can be found [here](https://missing.csail.mit.edu/). These both speak to topics in computer science that are crucial for writing and maintaining good software.\n",
    "\n"
   ]
  },
  {
   "cell_type": "code",
   "execution_count": 4,
   "metadata": {},
   "outputs": [
    {
     "name": "stdout",
     "output_type": "stream",
     "text": [
      "dawie\n"
     ]
    }
   ],
   "source": [
    "!whoami"
   ]
  },
  {
   "cell_type": "code",
   "execution_count": 2,
   "metadata": {},
   "outputs": [
    {
     "name": "stdout",
     "output_type": "stream",
     "text": [
      " 01_project_setup.ipynb     lecture-3-slides.Rmd\n",
      " 02_shell_commands.ipynb   'lecture-4 (2021-04-26 13-35-55).pdf'\n",
      " 06_fundamentals_ml.ipynb   lecture-4.html\n",
      " lecture-1.html             lecture-4.pdf\n",
      " lecture-1.Rmd              lecture-4.Rmd\n",
      " lecture-2.html             lecture-4-slides.html\n",
      " lecture-2.pdf              lecture-4-slides.Rmd\n",
      " lecture-2.Rmd              lecture-5.R\n",
      " lecture-2-slides.html      lecture-5.Rmd\n",
      " lecture-2-slides.Rmd       lecture-8.html\n",
      " lecture-3.html             lecture-8.Rmd\n",
      " lecture-3.pdf              lecture-9.html\n",
      " lecture-3.Rmd              lecture-9.Rmd\n",
      " lecture-3-slides.html\n"
     ]
    }
   ],
   "source": [
    "ls"
   ]
  },
  {
   "cell_type": "code",
   "execution_count": null,
   "metadata": {},
   "outputs": [],
   "source": []
  }
 ],
 "metadata": {
  "kernelspec": {
   "display_name": "Python 3",
   "language": "python",
   "name": "python3"
  },
  "language_info": {
   "codemirror_mode": {
    "name": "ipython",
    "version": 3
   },
   "file_extension": ".py",
   "mimetype": "text/x-python",
   "name": "python",
   "nbconvert_exporter": "python",
   "pygments_lexer": "ipython3",
   "version": "3.10.1"
  }
 },
 "nbformat": 4,
 "nbformat_minor": 4
}
