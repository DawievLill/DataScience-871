{
 "cells": [
  {
   "cell_type": "markdown",
   "metadata": {},
   "source": [
    "# Shell basics"
   ]
  },
  {
   "cell_type": "markdown",
   "metadata": {},
   "source": [
    "These are a set of short notes that are derived mainly from the wonderful set of notes of research software engineering, that can be found [here](https://merely-useful.tech/py-rse/). Another good resource to consult is the MIT missing semester course, which can be found [here](https://missing.csail.mit.edu/). These both speak to topics in computer science that are crucial for writing and maintaining good software.\n",
    "\n"
   ]
  },
  {
   "cell_type": "code",
   "execution_count": 10,
   "metadata": {},
   "outputs": [
    {
     "name": "stdout",
     "output_type": "stream",
     "text": [
      "C:\\ProgramData\\Anaconda3\\python.exe\n",
      "C:\\Users\\Dawie\\AppData\\Local\\Microsoft\\WindowsApps\\python.exe\n"
     ]
    }
   ],
   "source": []
  },
  {
   "cell_type": "code",
   "execution_count": null,
   "metadata": {},
   "outputs": [],
   "source": [
    "!whoami"
   ]
  },
  {
   "cell_type": "code",
   "execution_count": 12,
   "metadata": {},
   "outputs": [
    {
     "name": "stdout",
     "output_type": "stream",
     "text": [
      " Volume in drive C has no label.\n",
      " Volume Serial Number is 0280-C1B0\n",
      "\n",
      " Directory of C:\\Users\\Dawie\\Dropbox\\2022\\871-data-science\\DataScience-871\\notebooks\n",
      "\n",
      "01/14/2022  12:14 PM    <DIR>          .\n",
      "01/14/2022  07:51 AM    <DIR>          ..\n",
      "01/14/2022  12:05 PM    <DIR>          .ipynb_checkpoints\n",
      "01/14/2022  12:14 PM             4,099 02_shell_commands.ipynb\n",
      "01/13/2022  09:49 PM            10,726 06_fundamentals_ml.ipynb\n",
      "01/10/2022  03:35 PM         6,126,293 lecture-1.html\n",
      "01/10/2022  03:35 PM            26,523 lecture-1.Rmd\n",
      "01/10/2022  03:35 PM           824,752 lecture-2.html\n",
      "01/10/2022  03:35 PM         1,332,866 lecture-2.pdf\n",
      "01/10/2022  03:35 PM               585 lecture-2.Rmd\n",
      "01/10/2022  03:35 PM            16,357 lecture-2-slides.html\n",
      "01/10/2022  03:35 PM            14,346 lecture-2-slides.Rmd\n",
      "01/10/2022  03:35 PM           824,881 lecture-3.html\n",
      "01/10/2022  03:35 PM         2,019,305 lecture-3.pdf\n",
      "01/10/2022  03:35 PM               640 lecture-3.Rmd\n",
      "01/10/2022  03:35 PM            10,146 lecture-3-slides.html\n",
      "01/10/2022  03:35 PM             5,624 lecture-3-slides.Rmd\n",
      "01/10/2022  03:35 PM         1,216,956 lecture-4 (2021-04-26 13-35-55).pdf\n",
      "01/10/2022  03:35 PM         1,155,522 lecture-4.html\n",
      "01/10/2022  03:35 PM         1,216,956 lecture-4.pdf\n",
      "01/10/2022  03:35 PM               755 lecture-4.Rmd\n",
      "01/10/2022  03:35 PM            17,376 lecture-4-slides.html\n",
      "01/10/2022  03:35 PM            22,241 lecture-4-slides.Rmd\n",
      "01/10/2022  03:35 PM             8,329 lecture-5.R\n",
      "01/10/2022  03:35 PM             5,186 lecture-5.Rmd\n",
      "01/10/2022  03:35 PM         1,150,154 lecture-8.html\n",
      "01/10/2022  03:35 PM             4,104 lecture-8.Rmd\n",
      "01/10/2022  03:35 PM         1,150,154 lecture-9.html\n",
      "01/10/2022  03:35 PM             4,079 lecture-9.Rmd\n",
      "              26 File(s)     17,168,955 bytes\n",
      "               3 Dir(s)  40,403,243,008 bytes free\n"
     ]
    }
   ],
   "source": [
    "ls"
   ]
  },
  {
   "cell_type": "code",
   "execution_count": null,
   "metadata": {},
   "outputs": [],
   "source": []
  }
 ],
 "metadata": {
  "kernelspec": {
   "display_name": "Python 3",
   "language": "python",
   "name": "python3"
  },
  "language_info": {
   "codemirror_mode": {
    "name": "ipython",
    "version": 3
   },
   "file_extension": ".py",
   "mimetype": "text/x-python",
   "name": "python",
   "nbconvert_exporter": "python",
   "pygments_lexer": "ipython3",
   "version": "3.8.3"
  }
 },
 "nbformat": 4,
 "nbformat_minor": 4
}
